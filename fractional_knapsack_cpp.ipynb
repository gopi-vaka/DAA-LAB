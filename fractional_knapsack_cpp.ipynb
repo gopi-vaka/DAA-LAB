{
  "nbformat": 4,
  "nbformat_minor": 0,
  "metadata": {
    "colab": {
      "provenance": [],
      "authorship_tag": "ABX9TyOK189drBmTzlg/5b24jnbX",
      "include_colab_link": true
    },
    "kernelspec": {
      "name": "python3",
      "display_name": "Python 3"
    },
    "language_info": {
      "name": "python"
    }
  },
  "cells": [
    {
      "cell_type": "markdown",
      "metadata": {
        "id": "view-in-github",
        "colab_type": "text"
      },
      "source": [
        "<a href=\"https://colab.research.google.com/github/gopi-vaka/DAA-LAB/blob/main/fractional_knapsack_cpp.ipynb\" target=\"_parent\"><img src=\"https://colab.research.google.com/assets/colab-badge.svg\" alt=\"Open In Colab\"/></a>"
      ]
    },
    {
      "cell_type": "code",
      "execution_count": 20,
      "metadata": {
        "id": "VzJiHEmrW3xQ"
      },
      "outputs": [],
      "source": [
        "filename = \"fractional_knapsack.cpp \"\n",
        "output = \"fractional_knapsack\""
      ]
    },
    {
      "cell_type": "code",
      "source": [
        "%%writefile $filename\n",
        "#include <iostream>\n",
        "#include <vector>\n",
        "#include <algorithm>\n",
        "using namespace std;\n",
        "\n",
        "// Structure for an item which stores weight and corresponding value\n",
        "struct Item {\n",
        "    int value, weight;\n",
        "\n",
        "    // Constructor\n",
        "    Item(int v, int w) : value(v), weight(w) {}\n",
        "};\n",
        "\n",
        "// Function to get maximum value in knapsack using Fractional Knapsack\n",
        "double fractionalKnapsack(int capacity, vector<Item>& items) {\n",
        "    // Sort items by value/weight ratio in descending order\n",
        "    sort(items.begin(), items.end(), [](Item a, Item b) {\n",
        "        return (double)a.value / a.weight > (double)b.value / b.weight;\n",
        "    });\n",
        "\n",
        "    double totalValue = 0.0;\n",
        "\n",
        "    for (auto& item : items) {\n",
        "        if (capacity >= item.weight) {\n",
        "            // Take whole item\n",
        "            capacity -= item.weight;\n",
        "            totalValue += item.value;\n",
        "        } else {\n",
        "            // Take fraction of item\n",
        "            totalValue += item.value * ((double)capacity / item.weight);\n",
        "            break; // Knapsack is full\n",
        "        }\n",
        "    }\n",
        "\n",
        "    return totalValue;\n",
        "}\n",
        "\n",
        "int main() {\n",
        "    int capacity = 50; // Total capacity of knapsack\n",
        "    vector<Item> items = {\n",
        "        Item(60, 10),\n",
        "        Item(100, 20),\n",
        "        Item(120, 30)\n",
        "    };\n",
        "\n",
        "    double maxValue = fractionalKnapsack(capacity, items);\n",
        "    cout << \"Maximum value in knapsack = \" << maxValue << endl;\n",
        "\n",
        "    return 0;\n",
        "}\n"
      ],
      "metadata": {
        "id": "-GFQK_yzW4ix",
        "colab": {
          "base_uri": "https://localhost:8080/"
        },
        "outputId": "5b543f01-8e0a-4b34-cc6f-ed55c16b4760"
      },
      "execution_count": 21,
      "outputs": [
        {
          "output_type": "stream",
          "name": "stdout",
          "text": [
            "Writing fractional_knapsack.cpp\n"
          ]
        }
      ]
    },
    {
      "cell_type": "code",
      "source": [
        "!g++ $filename -o $output"
      ],
      "metadata": {
        "id": "KESkKg3sW4pT"
      },
      "execution_count": 22,
      "outputs": []
    },
    {
      "cell_type": "code",
      "source": [
        "!./$output"
      ],
      "metadata": {
        "id": "IMOWnEYwW4xs",
        "colab": {
          "base_uri": "https://localhost:8080/"
        },
        "outputId": "7b262ca7-585a-48bb-bf8e-320dd943fa6f"
      },
      "execution_count": 23,
      "outputs": [
        {
          "output_type": "stream",
          "name": "stdout",
          "text": [
            "Maximum value in knapsack = 240\n"
          ]
        }
      ]
    }
  ]
}