{
  "nbformat": 4,
  "nbformat_minor": 0,
  "metadata": {
    "colab": {
      "provenance": [],
      "authorship_tag": "ABX9TyNun+kVCDzDCKI5s0yKYFTV",
      "include_colab_link": true
    },
    "kernelspec": {
      "name": "python3",
      "display_name": "Python 3"
    },
    "language_info": {
      "name": "python"
    }
  },
  "cells": [
    {
      "cell_type": "markdown",
      "metadata": {
        "id": "view-in-github",
        "colab_type": "text"
      },
      "source": [
        "<a href=\"https://colab.research.google.com/github/gopi-vaka/DAA-LAB/blob/main/Randomized_Quick_sort_cpp.ipynb\" target=\"_parent\"><img src=\"https://colab.research.google.com/assets/colab-badge.svg\" alt=\"Open In Colab\"/></a>"
      ]
    },
    {
      "cell_type": "code",
      "execution_count": 141,
      "metadata": {
        "id": "VzJiHEmrW3xQ"
      },
      "outputs": [],
      "source": [
        "filename = \"Randomized_Quick_sort.cpp\"\n",
        "output = \"Randomized_Quick_sort\""
      ]
    },
    {
      "cell_type": "code",
      "source": [
        "%%writefile $filename\n",
        "#include <iostream>\n",
        "#include <cstdlib>\n",
        "#include <ctime>\n",
        "using namespace std;\n",
        "\n",
        "int partition(int arr[], int low, int high) {\n",
        "    int pivot = arr[high];\n",
        "    int i = low - 1;\n",
        "\n",
        "    for (int j = low; j < high; j++) {\n",
        "        if (arr[j] <= pivot) {\n",
        "            i++;\n",
        "            swap(arr[i], arr[j]);\n",
        "        }\n",
        "    }\n",
        "    swap(arr[i + 1], arr[high]);\n",
        "    return i + 1;\n",
        "}\n",
        "\n",
        "int randomized_partition(int arr[], int low, int high) {\n",
        "    int rand_index = low + rand() % (high - low + 1);\n",
        "    swap(arr[high], arr[rand_index]);\n",
        "    return partition(arr, low, high);\n",
        "}\n",
        "\n",
        "void randomized_quick_sort(int arr[], int low, int high) {\n",
        "    if (low < high) {\n",
        "        int pi = randomized_partition(arr, low, high);\n",
        "        randomized_quick_sort(arr, low, pi - 1);\n",
        "        randomized_quick_sort(arr, pi + 1, high);\n",
        "    }\n",
        "}\n",
        "\n",
        "int main() {\n",
        "    srand(time(0));\n",
        "    int arr[] = {10, 7, 8, 9, 1, 5};\n",
        "    int n = sizeof(arr) / sizeof(arr[0]);\n",
        "\n",
        "    cout << \"Original array: \";\n",
        "    for (int i = 0; i < n; i++)\n",
        "        cout << arr[i] << \" \";\n",
        "    cout << endl;\n",
        "\n",
        "    randomized_quick_sort(arr, 0, n - 1);\n",
        "\n",
        "    cout << \"Sorted array: \";\n",
        "    for (int i = 0; i < n; i++)\n",
        "        cout << arr[i] << \" \";\n",
        "    cout << endl;\n",
        "\n",
        "    return 0;\n",
        "}\n"
      ],
      "metadata": {
        "id": "-GFQK_yzW4ix",
        "colab": {
          "base_uri": "https://localhost:8080/"
        },
        "outputId": "0dd94f49-e37b-4c91-b98c-8c7a27350839"
      },
      "execution_count": 142,
      "outputs": [
        {
          "output_type": "stream",
          "name": "stdout",
          "text": [
            "Writing Randomized_Quick_sort.cpp\n"
          ]
        }
      ]
    },
    {
      "cell_type": "code",
      "source": [
        "!g++ $filename -o $output\n",
        "!./$output"
      ],
      "metadata": {
        "id": "KESkKg3sW4pT",
        "colab": {
          "base_uri": "https://localhost:8080/"
        },
        "outputId": "20b639b0-6770-4b6c-f10e-a839de6194f7"
      },
      "execution_count": 143,
      "outputs": [
        {
          "output_type": "stream",
          "name": "stdout",
          "text": [
            "Original array: 10 7 8 9 1 5 \n",
            "Sorted array: 1 5 7 8 9 10 \n"
          ]
        }
      ]
    }
  ]
}