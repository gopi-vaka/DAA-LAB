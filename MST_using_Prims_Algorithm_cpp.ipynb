{
  "nbformat": 4,
  "nbformat_minor": 0,
  "metadata": {
    "colab": {
      "provenance": [],
      "authorship_tag": "ABX9TyOV/AFBj6MbOTpaOKwRWDBi",
      "include_colab_link": true
    },
    "kernelspec": {
      "name": "python3",
      "display_name": "Python 3"
    },
    "language_info": {
      "name": "python"
    }
  },
  "cells": [
    {
      "cell_type": "markdown",
      "metadata": {
        "id": "view-in-github",
        "colab_type": "text"
      },
      "source": [
        "<a href=\"https://colab.research.google.com/github/gopi-vaka/DAA-LAB/blob/main/MST_using_Prims_Algorithm_cpp.ipynb\" target=\"_parent\"><img src=\"https://colab.research.google.com/assets/colab-badge.svg\" alt=\"Open In Colab\"/></a>"
      ]
    },
    {
      "cell_type": "code",
      "execution_count": 66,
      "metadata": {
        "id": "VzJiHEmrW3xQ"
      },
      "outputs": [],
      "source": [
        "filename = \"MST_using_Prims_Algorithm.cpp \"\n",
        "output = \"MST_using_Prims_Algorithm\""
      ]
    },
    {
      "cell_type": "code",
      "source": [
        "%%writefile $filename\n",
        "#include <iostream>\n",
        "#include <vector>\n",
        "#include <queue>\n",
        "#include <utility>\n",
        "using namespace std;\n",
        "\n",
        "typedef pair<int, int> Edge; // (weight, vertex)\n",
        "\n",
        "vector<Edge> prims_algorithm(const vector<vector<Edge>>& graph, int start_vertex, int& total_weight) {\n",
        "    int num_vertices = graph.size();\n",
        "    vector<bool> visited(num_vertices, false);\n",
        "    priority_queue<Edge, vector<Edge>, greater<Edge>> min_heap;\n",
        "    vector<Edge> mst;\n",
        "\n",
        "    total_weight = 0;\n",
        "    min_heap.push({0, start_vertex}); // Push starting vertex with weight 0\n",
        "    vector<int> parent(num_vertices, -1); // To track the parent of each node\n",
        "\n",
        "    while (!min_heap.empty()) {\n",
        "        int weight = min_heap.top().first;\n",
        "        int vertex = min_heap.top().second;\n",
        "        min_heap.pop();\n",
        "\n",
        "        if (visited[vertex])\n",
        "            continue;\n",
        "\n",
        "        visited[vertex] = true;\n",
        "        total_weight += weight;\n",
        "\n",
        "        if (parent[vertex] != -1) {\n",
        "            mst.push_back({parent[vertex], vertex});  // Edge from parent to current vertex\n",
        "        }\n",
        "\n",
        "        for (const auto& edge : graph[vertex]) {\n",
        "            int neighbor = edge.first;\n",
        "            int edge_weight = edge.second;\n",
        "            if (!visited[neighbor]) {\n",
        "                min_heap.push({edge_weight, neighbor});\n",
        "                parent[neighbor] = vertex;\n",
        "            }\n",
        "        }\n",
        "    }\n",
        "\n",
        "    return mst;\n",
        "}\n",
        "\n",
        "int main() {\n",
        "    int num_vertices = 4;\n",
        "    vector<vector<Edge>> graph(num_vertices);\n",
        "\n",
        "    // Undirected Graph Input (vertex: [(neighbor, weight)])\n",
        "    graph[0] = {{1, 2}, {3, 6}};\n",
        "    graph[1] = {{0, 2}, {2, 3}};\n",
        "    graph[2] = {{1, 3}, {3, 7}};\n",
        "    graph[3] = {{0, 6}, {1, 8}};\n",
        "\n",
        "    int total_weight = 0;\n",
        "    vector<Edge> mst = prims_algorithm(graph, 0, total_weight);\n",
        "\n",
        "    // Output the MST\n",
        "    cout << \"MST (Minimum Spanning Tree):\\n\";\n",
        "    for (const auto& edge : mst) {\n",
        "        int u = edge.first;  // Parent vertex\n",
        "        int v = edge.second; // Current vertex\n",
        "        cout << \"edge: \" << u << \" -> \" << v << endl;\n",
        "    }\n",
        "\n",
        "    cout << \"\\nTotal weight of the MST: \" << total_weight << endl;\n",
        "\n",
        "    return 0;\n",
        "}\n"
      ],
      "metadata": {
        "id": "-GFQK_yzW4ix",
        "colab": {
          "base_uri": "https://localhost:8080/"
        },
        "outputId": "bead849d-bb4a-489f-a493-f902768f7710"
      },
      "execution_count": 73,
      "outputs": [
        {
          "output_type": "stream",
          "name": "stdout",
          "text": [
            "Overwriting MST_using_Prims_Algorithm.cpp\n"
          ]
        }
      ]
    },
    {
      "cell_type": "code",
      "source": [
        "!g++ $filename -o $output\n",
        "!./$output"
      ],
      "metadata": {
        "id": "KESkKg3sW4pT",
        "colab": {
          "base_uri": "https://localhost:8080/"
        },
        "outputId": "6485ee43-ac09-4d20-c959-fed6d1a1b823"
      },
      "execution_count": 74,
      "outputs": [
        {
          "output_type": "stream",
          "name": "stdout",
          "text": [
            "MST (Minimum Spanning Tree):\n",
            "edge: 0 -> 1\n",
            "edge: 1 -> 2\n",
            "edge: 2 -> 3\n",
            "\n",
            "Total weight of the MST: 11\n"
          ]
        }
      ]
    },
    {
      "cell_type": "code",
      "source": [
        "!./$output"
      ],
      "metadata": {
        "id": "IMOWnEYwW4xs",
        "colab": {
          "base_uri": "https://localhost:8080/"
        },
        "outputId": "b0c9bbea-49eb-4e19-e4b9-55a58ae52af7"
      },
      "execution_count": 27,
      "outputs": [
        {
          "output_type": "stream",
          "name": "stdout",
          "text": [
            "Minimum cost of travelling salesman tour is: 80\n",
            "The shortest path is: 0 -> 0 -> 2 -> 3 -> 1\n"
          ]
        }
      ]
    }
  ]
}