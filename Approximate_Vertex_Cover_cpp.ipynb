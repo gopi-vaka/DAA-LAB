{
  "nbformat": 4,
  "nbformat_minor": 0,
  "metadata": {
    "colab": {
      "provenance": [],
      "authorship_tag": "ABX9TyMNwCCO2d+lrgigq/95NkRD",
      "include_colab_link": true
    },
    "kernelspec": {
      "name": "python3",
      "display_name": "Python 3"
    },
    "language_info": {
      "name": "python"
    }
  },
  "cells": [
    {
      "cell_type": "markdown",
      "metadata": {
        "id": "view-in-github",
        "colab_type": "text"
      },
      "source": [
        "<a href=\"https://colab.research.google.com/github/gopi-vaka/DAA-LAB/blob/main/Approximate_Vertex_Cover_cpp.ipynb\" target=\"_parent\"><img src=\"https://colab.research.google.com/assets/colab-badge.svg\" alt=\"Open In Colab\"/></a>"
      ]
    },
    {
      "cell_type": "code",
      "execution_count": 147,
      "metadata": {
        "id": "VzJiHEmrW3xQ"
      },
      "outputs": [],
      "source": [
        "filename = \"Approximate_Vertex_Cover.cpp\"\n",
        "output = \"Approximate_Vertex_Cover\""
      ]
    },
    {
      "cell_type": "code",
      "source": [
        "%%writefile $filename\n",
        "#include <iostream>\n",
        "#include <vector>\n",
        "#include <set>\n",
        "using namespace std;\n",
        "\n",
        "int main() {\n",
        "    // Simple graph using adjacency list\n",
        "    vector<vector<int>> graph = {\n",
        "        {1, 2},    // 0\n",
        "        {0, 2},    // 1\n",
        "        {0, 1, 3}, // 2\n",
        "        {2, 4},    // 3\n",
        "        {3}        // 4\n",
        "    };\n",
        "\n",
        "    int n = graph.size();\n",
        "    vector<vector<bool>> visited(n, vector<bool>(n, false));\n",
        "    set<int> vertex_cover;\n",
        "\n",
        "    for (int u = 0; u < n; ++u) {\n",
        "        for (int v : graph[u]) {\n",
        "            if (!visited[u][v] && !visited[v][u]) {\n",
        "                vertex_cover.insert(u);\n",
        "                vertex_cover.insert(v);\n",
        "\n",
        "                // Mark all edges of u and v as visited\n",
        "                for (int w : graph[u])\n",
        "                    visited[u][w] = visited[w][u] = true;\n",
        "                for (int w : graph[v])\n",
        "                    visited[v][w] = visited[w][v] = true;\n",
        "\n",
        "                break; // move to next node\n",
        "            }\n",
        "        }\n",
        "    }\n",
        "\n",
        "    cout << \"Approximate Vertex Cover: \";\n",
        "    for (int v : vertex_cover)\n",
        "        cout << v << \" \";\n",
        "    cout << \"\\nSize of cover: \" << vertex_cover.size() << endl;\n",
        "\n",
        "    return 0;\n",
        "}\n"
      ],
      "metadata": {
        "id": "-GFQK_yzW4ix",
        "colab": {
          "base_uri": "https://localhost:8080/"
        },
        "outputId": "264071d0-d9c2-4b9a-f0a6-24f3b2e95120"
      },
      "execution_count": 148,
      "outputs": [
        {
          "output_type": "stream",
          "name": "stdout",
          "text": [
            "Writing Approximate_Vertex_Cover.cpp\n"
          ]
        }
      ]
    },
    {
      "cell_type": "code",
      "source": [
        "!g++ $filename -o $output\n",
        "!./$output"
      ],
      "metadata": {
        "id": "KESkKg3sW4pT",
        "colab": {
          "base_uri": "https://localhost:8080/"
        },
        "outputId": "d27b3a05-fadc-469f-b0a7-234b58dbbdfa"
      },
      "execution_count": 149,
      "outputs": [
        {
          "output_type": "stream",
          "name": "stdout",
          "text": [
            "Approximate Vertex Cover: 0 1 2 3 \n",
            "Size of cover: 4\n"
          ]
        }
      ]
    }
  ]
}