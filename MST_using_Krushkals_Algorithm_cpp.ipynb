{
  "nbformat": 4,
  "nbformat_minor": 0,
  "metadata": {
    "colab": {
      "provenance": [],
      "authorship_tag": "ABX9TyNCqhDVVrzKxKVocjECNfgV",
      "include_colab_link": true
    },
    "kernelspec": {
      "name": "python3",
      "display_name": "Python 3"
    },
    "language_info": {
      "name": "python"
    }
  },
  "cells": [
    {
      "cell_type": "markdown",
      "metadata": {
        "id": "view-in-github",
        "colab_type": "text"
      },
      "source": [
        "<a href=\"https://colab.research.google.com/github/gopi-vaka/DAA-LAB/blob/main/MST_using_Krushkals_Algorithm_cpp.ipynb\" target=\"_parent\"><img src=\"https://colab.research.google.com/assets/colab-badge.svg\" alt=\"Open In Colab\"/></a>"
      ]
    },
    {
      "cell_type": "code",
      "execution_count": 126,
      "metadata": {
        "id": "VzJiHEmrW3xQ"
      },
      "outputs": [],
      "source": [
        "filename = \"MST_using_Krushkals_Algorithm.cpp\"\n",
        "output = \"MST_using_Krushkals_Algorithm\""
      ]
    },
    {
      "cell_type": "code",
      "source": [
        "%%writefile $filename\n",
        "#include<iostream>\n",
        "#include<vector>\n",
        "#include<algorithm>\n",
        "using namespace std;\n",
        "\n",
        "// Disjoint Set (Union-Find) class\n",
        "class DisjointSet {\n",
        "public:\n",
        "    vector<int> parent, rank;\n",
        "\n",
        "    DisjointSet(int n) {\n",
        "        parent.resize(n);\n",
        "        rank.resize(n, 0);\n",
        "        for (int i = 0; i < n; ++i)\n",
        "            parent[i] = i;\n",
        "    }\n",
        "\n",
        "    // Find the parent of a node\n",
        "    int find(int u) {\n",
        "        if (parent[u] != u)\n",
        "            parent[u] = find(parent[u]);\n",
        "        return parent[u];\n",
        "    }\n",
        "\n",
        "    // Union of two sets\n",
        "    void unionSets(int u, int v) {\n",
        "        int root_u = find(u);\n",
        "        int root_v = find(v);\n",
        "\n",
        "        if (root_u != root_v) {\n",
        "            if (rank[root_u] > rank[root_v]) {\n",
        "                parent[root_v] = root_u;\n",
        "            } else if (rank[root_u] < rank[root_v]) {\n",
        "                parent[root_u] = root_v;\n",
        "            } else {\n",
        "                parent[root_v] = root_u;\n",
        "                rank[root_u]++;\n",
        "            }\n",
        "        }\n",
        "    }\n",
        "};\n",
        "\n",
        "// Kruskal's algorithm for finding MST\n",
        "struct Edge {\n",
        "    int u, v, weight;\n",
        "    bool operator<(const Edge& e) {\n",
        "        return weight < e.weight;\n",
        "    }\n",
        "};\n",
        "\n",
        "void kruskal(int n, vector<Edge>& edges) {\n",
        "    DisjointSet ds(n);\n",
        "    vector<Edge> mst;  // Stores the MST edges\n",
        "    int totalWeight = 0;\n",
        "\n",
        "    // Sort edges by weight\n",
        "    sort(edges.begin(), edges.end());\n",
        "\n",
        "    for (const Edge& edge : edges) {\n",
        "        int u = edge.u, v = edge.v, weight = edge.weight;\n",
        "\n",
        "        // If u and v are not in the same set, include the edge in MST\n",
        "        if (ds.find(u) != ds.find(v)) {\n",
        "            ds.unionSets(u, v);\n",
        "            mst.push_back(edge);\n",
        "            totalWeight += weight;\n",
        "        }\n",
        "    }\n",
        "\n",
        "    // Output the MST edges\n",
        "    cout << \"Minimum Spanning Tree (MST):\\n\";\n",
        "    for (const Edge& edge : mst) {\n",
        "        cout << \"Edge: \" << edge.u << \" - \" << edge.v << \" with weight \" << edge.weight << endl;\n",
        "    }\n",
        "\n",
        "    cout << \"Total weight of MST: \" << totalWeight << endl;\n",
        "}\n",
        "\n",
        "int main() {\n",
        "    // Example graph with 4 vertices (0 to 3)\n",
        "    int n = 4;\n",
        "    vector<Edge> edges = {\n",
        "        {0, 1, 10}, {0, 2, 6}, {0, 3, 5},\n",
        "        {1, 3, 15}, {2, 3, 4}\n",
        "    };\n",
        "\n",
        "    kruskal(n, edges);\n",
        "\n",
        "    return 0;\n",
        "}\n"
      ],
      "metadata": {
        "id": "-GFQK_yzW4ix",
        "colab": {
          "base_uri": "https://localhost:8080/"
        },
        "outputId": "42bbcf8d-5edf-499a-c4aa-9e7380cdfeb1"
      },
      "execution_count": 129,
      "outputs": [
        {
          "output_type": "stream",
          "name": "stdout",
          "text": [
            "Overwriting MST_using_Krushkals_Algorithm.cpp\n"
          ]
        }
      ]
    },
    {
      "cell_type": "code",
      "source": [
        "!g++ $filename -o $output\n",
        "!./$output"
      ],
      "metadata": {
        "id": "KESkKg3sW4pT",
        "colab": {
          "base_uri": "https://localhost:8080/"
        },
        "outputId": "2646e9ac-2473-4274-e983-9bc3264b1894"
      },
      "execution_count": 128,
      "outputs": [
        {
          "output_type": "stream",
          "name": "stdout",
          "text": [
            "Minimum Spanning Tree (MST):\n",
            "Edge: 2 - 3 with weight 4\n",
            "Edge: 0 - 3 with weight 5\n",
            "Edge: 0 - 1 with weight 10\n",
            "Total weight of MST: 19\n"
          ]
        }
      ]
    }
  ]
}