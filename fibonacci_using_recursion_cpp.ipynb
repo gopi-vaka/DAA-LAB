{
  "nbformat": 4,
  "nbformat_minor": 0,
  "metadata": {
    "colab": {
      "provenance": [],
      "authorship_tag": "ABX9TyPKIC6EsGzIhhJoOGZQWY8d",
      "include_colab_link": true
    },
    "kernelspec": {
      "name": "python3",
      "display_name": "Python 3"
    },
    "language_info": {
      "name": "python"
    }
  },
  "cells": [
    {
      "cell_type": "markdown",
      "metadata": {
        "id": "view-in-github",
        "colab_type": "text"
      },
      "source": [
        "<a href=\"https://colab.research.google.com/github/gopi-vaka/DAA-LAB/blob/main/fibonacci_using_recursion_cpp.ipynb\" target=\"_parent\"><img src=\"https://colab.research.google.com/assets/colab-badge.svg\" alt=\"Open In Colab\"/></a>"
      ]
    },
    {
      "cell_type": "code",
      "execution_count": 6,
      "metadata": {
        "id": "VzJiHEmrW3xQ"
      },
      "outputs": [],
      "source": [
        "filename = \"fibonacci_using_recursion.cpp \"\n",
        "output = \"fibonacci_using_recursion\""
      ]
    },
    {
      "cell_type": "code",
      "source": [
        "%%writefile $filename\n",
        "#include <iostream>\n",
        "using namespace std;\n",
        "\n",
        "// Recursive function to find nth Fibonacci number\n",
        "int fibonacci(int n) {\n",
        "    if (n <= 1)\n",
        "        return n;\n",
        "    return fibonacci(n - 1) + fibonacci(n - 2);\n",
        "}\n",
        "\n",
        "int main() {\n",
        "    int n;\n",
        "    cout << \"Enter the number of terms: \";\n",
        "    cin >> n;\n",
        "\n",
        "    cout << \"Fibonacci sequence up to \" << n << \" terms:\\n\";\n",
        "    for (int i = 0; i < n; ++i) {\n",
        "        cout << fibonacci(i) << \" \";\n",
        "    }\n",
        "\n",
        "    cout << endl;\n",
        "    return 0;\n",
        "}\n"
      ],
      "metadata": {
        "id": "-GFQK_yzW4ix",
        "colab": {
          "base_uri": "https://localhost:8080/"
        },
        "outputId": "62c22956-00a2-4b29-a12a-3b3a7843b7e8"
      },
      "execution_count": 7,
      "outputs": [
        {
          "output_type": "stream",
          "name": "stdout",
          "text": [
            "Overwriting fibonacci_using_recursion.cpp\n"
          ]
        }
      ]
    },
    {
      "cell_type": "code",
      "source": [
        "!g++ $filename -o $output"
      ],
      "metadata": {
        "id": "KESkKg3sW4pT"
      },
      "execution_count": 8,
      "outputs": []
    },
    {
      "cell_type": "code",
      "source": [
        "!./$output"
      ],
      "metadata": {
        "id": "IMOWnEYwW4xs",
        "colab": {
          "base_uri": "https://localhost:8080/"
        },
        "outputId": "304b6932-0392-4f8f-f2c7-fa9669b8e594"
      },
      "execution_count": 9,
      "outputs": [
        {
          "output_type": "stream",
          "name": "stdout",
          "text": [
            "Enter the number of terms: 3\n",
            "Fibonacci sequence up to 3 terms:\n",
            "0 1 1 \n"
          ]
        }
      ]
    }
  ]
}