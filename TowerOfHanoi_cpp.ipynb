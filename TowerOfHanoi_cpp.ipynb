{
  "nbformat": 4,
  "nbformat_minor": 0,
  "metadata": {
    "colab": {
      "provenance": [],
      "authorship_tag": "ABX9TyNViL6JODsvgtFkY5dDPsiU",
      "include_colab_link": true
    },
    "kernelspec": {
      "name": "python3",
      "display_name": "Python 3"
    },
    "language_info": {
      "name": "python"
    }
  },
  "cells": [
    {
      "cell_type": "markdown",
      "metadata": {
        "id": "view-in-github",
        "colab_type": "text"
      },
      "source": [
        "<a href=\"https://colab.research.google.com/github/gopi-vaka/DAA-LAB/blob/main/TowerOfHanoi_cpp.ipynb\" target=\"_parent\"><img src=\"https://colab.research.google.com/assets/colab-badge.svg\" alt=\"Open In Colab\"/></a>"
      ]
    },
    {
      "cell_type": "code",
      "execution_count": null,
      "metadata": {
        "id": "VzJiHEmrW3xQ"
      },
      "outputs": [],
      "source": [
        "filename = \"TowerOfHanoi.cpp \"\n",
        "output = \"TowerOfHanoi\""
      ]
    },
    {
      "cell_type": "code",
      "source": [
        "%%writefile $filename\n",
        "#include <iostream>\n",
        "using namespace std;\n",
        "\n",
        "void towerOfHanoi(int n, char source, char target, char aux) {\n",
        "    if (n == 1) {\n",
        "        cout << \"Move disk 1 from \" << source << \" to \" << target << endl;\n",
        "        return;\n",
        "    }\n",
        "\n",
        "    towerOfHanoi(n - 1, source, aux, target);\n",
        "    cout << \"Move disk \" << n << \" from \" << source << \" to \" << target << endl;\n",
        "    towerOfHanoi(n - 1, aux, target, source);\n",
        "}\n",
        "\n",
        "int main() {\n",
        "    int n;\n",
        "    cout << \"Enter the number of disks: \";\n",
        "    cin >> n;\n",
        "\n",
        "    towerOfHanoi(n, 'A', 'B', 'C');\n",
        "\n",
        "    return 0;\n",
        "}"
      ],
      "metadata": {
        "id": "-GFQK_yzW4ix",
        "colab": {
          "base_uri": "https://localhost:8080/"
        },
        "outputId": "20b28645-869e-453c-ff95-97d36683915b"
      },
      "execution_count": null,
      "outputs": [
        {
          "output_type": "stream",
          "name": "stdout",
          "text": [
            "Writing TowerOfHanoi.cpp\n"
          ]
        }
      ]
    },
    {
      "cell_type": "code",
      "source": [
        "!g++ $filename -o $output"
      ],
      "metadata": {
        "id": "KESkKg3sW4pT"
      },
      "execution_count": null,
      "outputs": []
    },
    {
      "cell_type": "code",
      "source": [
        "!./$output"
      ],
      "metadata": {
        "id": "IMOWnEYwW4xs",
        "colab": {
          "base_uri": "https://localhost:8080/"
        },
        "outputId": "fce95b5e-ebad-42c5-de15-6c3d16e06140"
      },
      "execution_count": null,
      "outputs": [
        {
          "output_type": "stream",
          "name": "stdout",
          "text": [
            "Enter the number of disks: 3\n",
            "Move disk 1 from A to B\n",
            "Move disk 2 from A to C\n",
            "Move disk 1 from B to C\n",
            "Move disk 3 from A to B\n",
            "Move disk 1 from C to A\n",
            "Move disk 2 from C to B\n",
            "Move disk 1 from A to B\n"
          ]
        }
      ]
    }
  ]
}