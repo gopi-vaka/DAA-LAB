{
  "nbformat": 4,
  "nbformat_minor": 0,
  "metadata": {
    "colab": {
      "provenance": [],
      "authorship_tag": "ABX9TyNIY0vulsvLx5Wk12+kVnql",
      "include_colab_link": true
    },
    "kernelspec": {
      "name": "python3",
      "display_name": "Python 3"
    },
    "language_info": {
      "name": "python"
    }
  },
  "cells": [
    {
      "cell_type": "markdown",
      "metadata": {
        "id": "view-in-github",
        "colab_type": "text"
      },
      "source": [
        "<a href=\"https://colab.research.google.com/github/gopi-vaka/DAA-LAB/blob/main/TSP_using_Held_Karp_Algorithm_cpp.ipynb\" target=\"_parent\"><img src=\"https://colab.research.google.com/assets/colab-badge.svg\" alt=\"Open In Colab\"/></a>"
      ]
    },
    {
      "cell_type": "code",
      "execution_count": 113,
      "metadata": {
        "id": "VzJiHEmrW3xQ"
      },
      "outputs": [],
      "source": [
        "filename = \"TSP_using_Held-Karp_Algorithm.cpp\"\n",
        "output = \"TSP_using_Held-Karp_Algorithm\""
      ]
    },
    {
      "cell_type": "code",
      "source": [
        "%%writefile $filename\n",
        "#include <iostream>\n",
        "#include <vector>\n",
        "#include <climits>\n",
        "\n",
        "using namespace std;\n",
        "\n",
        "const int INF = INT_MAX;\n",
        "\n",
        "int tsp(int n, const vector<vector<int>>& dist) {\n",
        "    int N = 1 << n;\n",
        "    vector<vector<int>> dp(N, vector<int>(n, INF));\n",
        "    dp[1][0] = 0;  // start at city 0\n",
        "\n",
        "    for (int mask = 1; mask < N; ++mask) {\n",
        "        for (int u = 0; u < n; ++u) {\n",
        "            if (!(mask & (1 << u))) continue;\n",
        "            for (int v = 0; v < n; ++v) {\n",
        "                if (mask & (1 << v)) continue;\n",
        "                int nextMask = mask | (1 << v);\n",
        "                if (dist[u][v] != INF && dp[mask][u] != INF)\n",
        "                    dp[nextMask][v] = min(dp[nextMask][v], dp[mask][u] + dist[u][v]);\n",
        "\n",
        "            }\n",
        "        }\n",
        "    }\n",
        "\n",
        "    int ans = INF;\n",
        "    for (int i = 1; i < n; ++i) {\n",
        "        if (dist[i][0] != INF && dp[(1 << n) - 1][i] != INF)\n",
        "            ans = min(ans, dp[(1 << n) - 1][i] + dist[i][0]);\n",
        "    }\n",
        "    return ans;\n",
        "}\n",
        "\n",
        "int main() {\n",
        "    int n = 4;\n",
        "    vector<vector<int>> dist = {\n",
        "        {0, 10, 15, 20},\n",
        "        {10, 0, 35, 25},\n",
        "        {15, 35, 0, 30},\n",
        "        {20, 25, 30, 0}\n",
        "    };\n",
        "\n",
        "    int result = tsp(n, dist);\n",
        "    cout << \"Minimum tour cost: \" << result << endl;\n",
        "    return 0;\n",
        "}\n"
      ],
      "metadata": {
        "id": "-GFQK_yzW4ix",
        "colab": {
          "base_uri": "https://localhost:8080/"
        },
        "outputId": "931053e8-7fc0-4bf6-d89f-764ce5322418"
      },
      "execution_count": 116,
      "outputs": [
        {
          "output_type": "stream",
          "name": "stdout",
          "text": [
            "Overwriting TSP_using_Held-Karp_Algorithm.cpp\n"
          ]
        }
      ]
    },
    {
      "cell_type": "code",
      "source": [
        "!g++ $filename -o $output\n",
        "!./$output"
      ],
      "metadata": {
        "id": "KESkKg3sW4pT",
        "colab": {
          "base_uri": "https://localhost:8080/"
        },
        "outputId": "0541907f-0270-4659-98cf-712b72179d23"
      },
      "execution_count": 117,
      "outputs": [
        {
          "output_type": "stream",
          "name": "stdout",
          "text": [
            "Minimum tour cost: 80\n"
          ]
        }
      ]
    }
  ]
}