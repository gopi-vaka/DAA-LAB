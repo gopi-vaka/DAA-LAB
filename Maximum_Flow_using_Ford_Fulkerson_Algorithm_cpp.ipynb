{
  "nbformat": 4,
  "nbformat_minor": 0,
  "metadata": {
    "colab": {
      "provenance": [],
      "authorship_tag": "ABX9TyN27OKy+xJL5y+TJVIvHAAo",
      "include_colab_link": true
    },
    "kernelspec": {
      "name": "python3",
      "display_name": "Python 3"
    },
    "language_info": {
      "name": "python"
    }
  },
  "cells": [
    {
      "cell_type": "markdown",
      "metadata": {
        "id": "view-in-github",
        "colab_type": "text"
      },
      "source": [
        "<a href=\"https://colab.research.google.com/github/gopi-vaka/DAA-LAB/blob/main/Maximum_Flow_using_Ford_Fulkerson_Algorithm_cpp.ipynb\" target=\"_parent\"><img src=\"https://colab.research.google.com/assets/colab-badge.svg\" alt=\"Open In Colab\"/></a>"
      ]
    },
    {
      "cell_type": "code",
      "execution_count": 138,
      "metadata": {
        "id": "VzJiHEmrW3xQ"
      },
      "outputs": [],
      "source": [
        "filename = \"Maximum_Flow_using_Ford-Fulkerson_Algorithm.cpp\"\n",
        "output = \"Maximum_Flow_using_Ford-Fulkerson_Algorithm\""
      ]
    },
    {
      "cell_type": "code",
      "source": [
        "%%writefile $filename\n",
        "#include <iostream>\n",
        "#include <vector>\n",
        "#include <climits>\n",
        "\n",
        "using namespace std;\n",
        "\n",
        "class FordFulkerson {\n",
        "public:\n",
        "    FordFulkerson(int n) : n(n) {\n",
        "        graph.resize(n, vector<int>(n, 0));  // Initialize graph\n",
        "        residualGraph.resize(n, vector<int>(n, 0));  // Initialize residual graph\n",
        "    }\n",
        "\n",
        "    void addEdge(int u, int v, int capacity) {\n",
        "        graph[u][v] = capacity;\n",
        "        residualGraph[u][v] = capacity;\n",
        "    }\n",
        "\n",
        "    int dfs(int u, int t, vector<bool>& visited, vector<int>& parent) {\n",
        "        if (u == t) return INT_MAX;\n",
        "        visited[u] = true;\n",
        "        for (int v = 0; v < n; ++v) {\n",
        "            if (!visited[v] && residualGraph[u][v] > 0) {\n",
        "                parent[v] = u;\n",
        "                int flow = dfs(v, t, visited, parent);\n",
        "                if (flow > 0) return min(flow, residualGraph[u][v]);\n",
        "            }\n",
        "        }\n",
        "        return 0;\n",
        "    }\n",
        "\n",
        "    int maxFlow(int source, int sink) {\n",
        "        vector<int> parent(n);\n",
        "        int maxFlow = 0;\n",
        "\n",
        "        while (true) {\n",
        "            vector<bool> visited(n, false);\n",
        "            int flow = dfs(source, sink, visited, parent);\n",
        "            if (flow == 0) break;  // No more augmenting paths\n",
        "\n",
        "            // Update residual graph\n",
        "            maxFlow += flow;\n",
        "            for (int u = sink; u != source; u = parent[u]) {\n",
        "                int v = parent[u];\n",
        "                residualGraph[v][u] -= flow;\n",
        "                residualGraph[u][v] += flow;\n",
        "            }\n",
        "        }\n",
        "\n",
        "        return maxFlow;\n",
        "    }\n",
        "\n",
        "private:\n",
        "    int n;\n",
        "    vector<vector<int>> graph, residualGraph;\n",
        "};\n",
        "\n",
        "int main() {\n",
        "    int n = 6;  // Number of nodes\n",
        "    FordFulkerson ff(n);\n",
        "\n",
        "    // Adding edges (u, v, capacity)\n",
        "    ff.addEdge(0, 1, 10);\n",
        "    ff.addEdge(0, 2, 10);\n",
        "    ff.addEdge(1, 2, 2);\n",
        "    ff.addEdge(1, 3, 4);\n",
        "    ff.addEdge(2, 4, 9);\n",
        "    ff.addEdge(3, 4, 6);\n",
        "    ff.addEdge(3, 5, 10);\n",
        "    ff.addEdge(4, 5, 10);\n",
        "\n",
        "    cout << \"Maximum Flow: \" << ff.maxFlow(0, 5) << endl;  // Source: 0, Sink: 5\n",
        "    return 0;\n",
        "}\n"
      ],
      "metadata": {
        "id": "-GFQK_yzW4ix",
        "colab": {
          "base_uri": "https://localhost:8080/"
        },
        "outputId": "3418f8a4-6aec-4ad1-b0be-40fe01c3304f"
      },
      "execution_count": 139,
      "outputs": [
        {
          "output_type": "stream",
          "name": "stdout",
          "text": [
            "Writing Maximum_Flow_using_Ford-Fulkerson_Algorithm.cpp\n"
          ]
        }
      ]
    },
    {
      "cell_type": "code",
      "source": [
        "!g++ $filename -o $output\n",
        "!./$output"
      ],
      "metadata": {
        "id": "KESkKg3sW4pT",
        "colab": {
          "base_uri": "https://localhost:8080/"
        },
        "outputId": "de498dd4-c772-403a-944d-2a62018c5584"
      },
      "execution_count": 140,
      "outputs": [
        {
          "output_type": "stream",
          "name": "stdout",
          "text": [
            "Maximum Flow: 13\n"
          ]
        }
      ]
    }
  ]
}