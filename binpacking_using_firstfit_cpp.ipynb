{
  "nbformat": 4,
  "nbformat_minor": 0,
  "metadata": {
    "colab": {
      "provenance": [],
      "authorship_tag": "ABX9TyOBYEBUL/oCGQi2SYV6TMx4",
      "include_colab_link": true
    },
    "kernelspec": {
      "name": "python3",
      "display_name": "Python 3"
    },
    "language_info": {
      "name": "python"
    }
  },
  "cells": [
    {
      "cell_type": "markdown",
      "metadata": {
        "id": "view-in-github",
        "colab_type": "text"
      },
      "source": [
        "<a href=\"https://colab.research.google.com/github/gopi-vaka/DAA-LAB/blob/main/binpacking_using_firstfit_cpp.ipynb\" target=\"_parent\"><img src=\"https://colab.research.google.com/assets/colab-badge.svg\" alt=\"Open In Colab\"/></a>"
      ]
    },
    {
      "cell_type": "code",
      "execution_count": 16,
      "metadata": {
        "id": "VzJiHEmrW3xQ"
      },
      "outputs": [],
      "source": [
        "filename = \"binpacking_using_firstfit.cpp \"\n",
        "output = \"binpacking_using_firstfit\""
      ]
    },
    {
      "cell_type": "code",
      "source": [
        "%%writefile $filename\n",
        "#include <iostream>\n",
        "#include <vector>\n",
        "using namespace std;\n",
        "\n",
        "// Function to implement First Fit Bin Packing\n",
        "void firstFit(int items[], int n, int binCapacity) {\n",
        "    vector<int> bins;\n",
        "\n",
        "    for (int i = 0; i < n; ++i) {\n",
        "        int j;\n",
        "        // Try to fit item in an existing bin\n",
        "        for (j = 0; j < bins.size(); ++j) {\n",
        "            if (bins[j] + items[i] <= binCapacity) {\n",
        "                bins[j] += items[i];\n",
        "                break;\n",
        "            }\n",
        "        }\n",
        "\n",
        "        // If item doesn't fit in any bin, create a new bin\n",
        "        if (j == bins.size()) {\n",
        "            bins.push_back(items[i]);\n",
        "        }\n",
        "    }\n",
        "\n",
        "    cout << \"Number of bins used: \" << bins.size() << endl;\n",
        "    for (int i = 0; i < bins.size(); ++i) {\n",
        "        cout << \"Bin \" << i + 1 << \": \" << bins[i] << \"/\" << binCapacity << endl;\n",
        "    }\n",
        "}\n",
        "\n",
        "int main() {\n",
        "    int items[] = {4, 8, 1, 4, 2, 1}; // Example item sizes\n",
        "    int n = sizeof(items) / sizeof(items[0]);\n",
        "    int binCapacity = 10;\n",
        "\n",
        "    cout << \"First Fit Bin Packing:\\n\";\n",
        "    firstFit(items, n, binCapacity);\n",
        "\n",
        "    return 0;\n",
        "}\n"
      ],
      "metadata": {
        "id": "-GFQK_yzW4ix",
        "colab": {
          "base_uri": "https://localhost:8080/"
        },
        "outputId": "3fc2fad5-e410-439c-d239-974039054711"
      },
      "execution_count": 17,
      "outputs": [
        {
          "output_type": "stream",
          "name": "stdout",
          "text": [
            "Writing binpacking_using_firstfit.cpp\n"
          ]
        }
      ]
    },
    {
      "cell_type": "code",
      "source": [
        "!g++ $filename -o $output"
      ],
      "metadata": {
        "id": "KESkKg3sW4pT"
      },
      "execution_count": 18,
      "outputs": []
    },
    {
      "cell_type": "code",
      "source": [
        "!./$output"
      ],
      "metadata": {
        "id": "IMOWnEYwW4xs",
        "colab": {
          "base_uri": "https://localhost:8080/"
        },
        "outputId": "fb15f1f3-f367-44f3-a504-f451fc129a42"
      },
      "execution_count": 19,
      "outputs": [
        {
          "output_type": "stream",
          "name": "stdout",
          "text": [
            "First Fit Bin Packing:\n",
            "Number of bins used: 2\n",
            "Bin 1: 10/10\n",
            "Bin 2: 10/10\n"
          ]
        }
      ]
    }
  ]
}