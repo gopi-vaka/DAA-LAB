{
  "nbformat": 4,
  "nbformat_minor": 0,
  "metadata": {
    "colab": {
      "provenance": [],
      "authorship_tag": "ABX9TyM1pR4HpKR+DZ9lperxTJpb",
      "include_colab_link": true
    },
    "kernelspec": {
      "name": "python3",
      "display_name": "Python 3"
    },
    "language_info": {
      "name": "python"
    }
  },
  "cells": [
    {
      "cell_type": "markdown",
      "metadata": {
        "id": "view-in-github",
        "colab_type": "text"
      },
      "source": [
        "<a href=\"https://colab.research.google.com/github/gopi-vaka/DAA-LAB/blob/main/Shortest_Path_using_Floyd_Warshall_Algorithm_cpp.ipynb\" target=\"_parent\"><img src=\"https://colab.research.google.com/assets/colab-badge.svg\" alt=\"Open In Colab\"/></a>"
      ]
    },
    {
      "cell_type": "code",
      "execution_count": 135,
      "metadata": {
        "id": "VzJiHEmrW3xQ"
      },
      "outputs": [],
      "source": [
        "filename = \"Shortest_Path_using_Floyd_Warshall_Algorithm..cpp\"\n",
        "output = \"Shortest_Path_using_Floyd_Warshall_Algorithm.\""
      ]
    },
    {
      "cell_type": "code",
      "source": [
        "%%writefile $filename\n",
        "#include <iostream>\n",
        "#include <vector>\n",
        "#include <climits>\n",
        "using namespace std;\n",
        "\n",
        "void floydWarshall(int n, vector<vector<int>>& graph) {\n",
        "    vector<vector<int>> dist = graph; // Initialize distance matrix with the input graph\n",
        "\n",
        "    // Applying the Floyd-Warshall algorithm\n",
        "    for (int k = 0; k < n; ++k) {\n",
        "        for (int i = 0; i < n; ++i) {\n",
        "            for (int j = 0; j < n; ++j) {\n",
        "                if (dist[i][k] != INT_MAX && dist[k][j] != INT_MAX) { // Check for overflow/invalid paths\n",
        "                    dist[i][j] = min(dist[i][j], dist[i][k] + dist[k][j]);\n",
        "                }\n",
        "            }\n",
        "        }\n",
        "    }\n",
        "\n",
        "    // Print the shortest distance matrix\n",
        "    cout << \"Shortest distances between every pair of nodes:\" << endl;\n",
        "    for (int i = 0; i < n; ++i) {\n",
        "        for (int j = 0; j < n; ++j) {\n",
        "            if (dist[i][j] == INT_MAX)\n",
        "                cout << \"INF\" << \"\\t\"; // No path\n",
        "            else\n",
        "                cout << dist[i][j] << \"\\t\"; // Shortest path distance\n",
        "        }\n",
        "        cout << endl;\n",
        "    }\n",
        "}\n",
        "\n",
        "int main() {\n",
        "    int n = 4; // Number of nodes\n",
        "    vector<vector<int>> graph(n, vector<int>(n, INT_MAX)); // Initialize graph with INF\n",
        "\n",
        "    // Set diagonal to 0 (distance to self is 0)\n",
        "    for (int i = 0; i < n; ++i) {\n",
        "        graph[i][i] = 0;\n",
        "    }\n",
        "\n",
        "    // Define edges and their weights (undirected graph example)\n",
        "    graph[0][1] = 5;\n",
        "    graph[0][2] = 10;\n",
        "    graph[1][0] = 5;\n",
        "    graph[1][2] = 3;\n",
        "    graph[1][3] = 2;\n",
        "    graph[2][0] = 10;\n",
        "    graph[2][1] = 3;\n",
        "    graph[2][3] = 1;\n",
        "    graph[3][1] = 2;\n",
        "    graph[3][2] = 1;\n",
        "\n",
        "    // Call the Floyd-Warshall function\n",
        "    floydWarshall(n, graph);\n",
        "\n",
        "    return 0;\n",
        "}\n"
      ],
      "metadata": {
        "id": "-GFQK_yzW4ix",
        "colab": {
          "base_uri": "https://localhost:8080/"
        },
        "outputId": "e3dc2035-9725-4cdd-e14e-169820a91948"
      },
      "execution_count": 136,
      "outputs": [
        {
          "output_type": "stream",
          "name": "stdout",
          "text": [
            "Writing Shortest_Path_using_Floyd_Warshall_Algorithm..cpp\n"
          ]
        }
      ]
    },
    {
      "cell_type": "code",
      "source": [
        "!g++ $filename -o $output\n",
        "!./$output"
      ],
      "metadata": {
        "id": "KESkKg3sW4pT",
        "colab": {
          "base_uri": "https://localhost:8080/"
        },
        "outputId": "fa59a68a-3d3f-45bf-c5e4-6dd7bc602082"
      },
      "execution_count": 137,
      "outputs": [
        {
          "output_type": "stream",
          "name": "stdout",
          "text": [
            "Shortest distances between every pair of nodes:\n",
            "0\t5\t8\t7\t\n",
            "5\t0\t3\t2\t\n",
            "8\t3\t0\t1\t\n",
            "7\t2\t1\t0\t\n"
          ]
        }
      ]
    }
  ]
}