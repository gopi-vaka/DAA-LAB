{
  "nbformat": 4,
  "nbformat_minor": 0,
  "metadata": {
    "colab": {
      "provenance": [],
      "authorship_tag": "ABX9TyNney74OVL34okT6FxouFza",
      "include_colab_link": true
    },
    "kernelspec": {
      "name": "python3",
      "display_name": "Python 3"
    },
    "language_info": {
      "name": "python"
    }
  },
  "cells": [
    {
      "cell_type": "markdown",
      "metadata": {
        "id": "view-in-github",
        "colab_type": "text"
      },
      "source": [
        "<a href=\"https://colab.research.google.com/github/gopi-vaka/DAA-LAB/blob/main/Shortest_Path_using_Dijkstras_Algorithm_cpp.ipynb\" target=\"_parent\"><img src=\"https://colab.research.google.com/assets/colab-badge.svg\" alt=\"Open In Colab\"/></a>"
      ]
    },
    {
      "cell_type": "code",
      "execution_count": 130,
      "metadata": {
        "id": "VzJiHEmrW3xQ"
      },
      "outputs": [],
      "source": [
        "filename = \"Shortest_Path_using_Dijkstras_Algorithm.cpp\"\n",
        "output = \"Shortest_Path_using_Dijkstras_Algorithm\""
      ]
    },
    {
      "cell_type": "code",
      "source": [
        "%%writefile $filename\n",
        "#include <iostream>\n",
        "#include <vector>\n",
        "#include <climits>\n",
        "#include <queue>\n",
        "#include <algorithm>  // Add this line to include the reverse function\n",
        "using namespace std;\n",
        "\n",
        "// Structure to represent an edge (neighbor, weight)\n",
        "struct Edge {\n",
        "    int v, weight;\n",
        "};\n",
        "\n",
        "// Comparator for the priority queue to create a min-heap\n",
        "struct Compare {\n",
        "    bool operator()(pair<int, int>& a, pair<int, int>& b) {\n",
        "        return a.second > b.second;\n",
        "    }\n",
        "};\n",
        "\n",
        "void dijkstra(int n, vector<vector<Edge>>& graph, int start) {\n",
        "    vector<int> dist(n, INT_MAX);   // Shortest distance from start to each node\n",
        "    vector<int> pred(n, -1);        // To store the predecessor of each node (for path reconstruction)\n",
        "    dist[start] = 0;\n",
        "\n",
        "    priority_queue<pair<int, int>, vector<pair<int, int>>, Compare> pq;\n",
        "    pq.push({start, 0});\n",
        "\n",
        "    while (!pq.empty()) {\n",
        "        int node = pq.top().first;\n",
        "        int distance = pq.top().second;\n",
        "        pq.pop();\n",
        "\n",
        "        if (distance > dist[node]) continue;\n",
        "\n",
        "        for (auto& edge : graph[node]) {\n",
        "            int nextNode = edge.v;\n",
        "            int weight = edge.weight;\n",
        "            int newDist = distance + weight;\n",
        "\n",
        "            if (newDist < dist[nextNode]) {\n",
        "                dist[nextNode] = newDist;\n",
        "                pred[nextNode] = node;\n",
        "                pq.push({nextNode, newDist});\n",
        "            }\n",
        "        }\n",
        "    }\n",
        "\n",
        "    // Output the shortest path for each node\n",
        "    for (int i = 0; i < n; ++i) {\n",
        "        if (dist[i] == INT_MAX) {\n",
        "            cout << \"No path from \" << start << \" to \" << i << endl;\n",
        "        } else {\n",
        "            cout << \"Shortest path from \" << start << \" to \" << i << \": \";\n",
        "            vector<int> path;\n",
        "            for (int j = i; j != -1; j = pred[j]) {\n",
        "                path.push_back(j);\n",
        "            }\n",
        "            reverse(path.begin(), path.end());  // Now reverse works correctly after including <algorithm>\n",
        "            for (int node : path) {\n",
        "                cout << node << \" \";\n",
        "            }\n",
        "            cout << \"(Distance: \" << dist[i] << \")\" << endl;\n",
        "        }\n",
        "    }\n",
        "}\n",
        "\n",
        "int main() {\n",
        "    int n = 5;  // Number of nodes\n",
        "    vector<vector<Edge>> graph(n);\n",
        "\n",
        "    // Create the graph as an adjacency list\n",
        "    graph[0].push_back({1, 2});\n",
        "    graph[0].push_back({2, 6});\n",
        "    graph[1].push_back({0, 2});\n",
        "    graph[1].push_back({3, 3});\n",
        "    graph[1].push_back({4, 7});\n",
        "    graph[2].push_back({0, 6});\n",
        "    graph[2].push_back({3, 1});\n",
        "    graph[3].push_back({1, 3});\n",
        "    graph[3].push_back({2, 1});\n",
        "    graph[3].push_back({4, 8});\n",
        "    graph[4].push_back({1, 7});\n",
        "    graph[4].push_back({3, 8});\n",
        "\n",
        "    int start = 0;  // Starting node for Dijkstra's algorithm\n",
        "    dijkstra(n, graph, start);\n",
        "\n",
        "    return 0;\n",
        "}\n"
      ],
      "metadata": {
        "id": "-GFQK_yzW4ix",
        "colab": {
          "base_uri": "https://localhost:8080/"
        },
        "outputId": "ba176546-e364-466d-9587-81b11eda6676"
      },
      "execution_count": 133,
      "outputs": [
        {
          "output_type": "stream",
          "name": "stdout",
          "text": [
            "Overwriting Shortest_Path_using_Dijkstras_Algorithm.cpp\n"
          ]
        }
      ]
    },
    {
      "cell_type": "code",
      "source": [
        "!g++ $filename -o $output\n",
        "!./$output"
      ],
      "metadata": {
        "id": "KESkKg3sW4pT",
        "colab": {
          "base_uri": "https://localhost:8080/"
        },
        "outputId": "59d0088c-a694-4075-9a73-b4b8854d2378"
      },
      "execution_count": 134,
      "outputs": [
        {
          "output_type": "stream",
          "name": "stdout",
          "text": [
            "Shortest path from 0 to 0: 0 (Distance: 0)\n",
            "Shortest path from 0 to 1: 0 1 (Distance: 2)\n",
            "Shortest path from 0 to 2: 0 2 (Distance: 6)\n",
            "Shortest path from 0 to 3: 0 1 3 (Distance: 5)\n",
            "Shortest path from 0 to 4: 0 1 4 (Distance: 9)\n"
          ]
        }
      ]
    }
  ]
}