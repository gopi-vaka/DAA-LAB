{
  "nbformat": 4,
  "nbformat_minor": 0,
  "metadata": {
    "colab": {
      "provenance": [],
      "authorship_tag": "ABX9TyOXq4LxdEcjBJ5QOhHeBqlT",
      "include_colab_link": true
    },
    "kernelspec": {
      "name": "python3",
      "display_name": "Python 3"
    },
    "language_info": {
      "name": "python"
    }
  },
  "cells": [
    {
      "cell_type": "markdown",
      "metadata": {
        "id": "view-in-github",
        "colab_type": "text"
      },
      "source": [
        "<a href=\"https://colab.research.google.com/github/gopi-vaka/DAA-LAB/blob/main/fibonacci_using_iteration_cpp.ipynb\" target=\"_parent\"><img src=\"https://colab.research.google.com/assets/colab-badge.svg\" alt=\"Open In Colab\"/></a>"
      ]
    },
    {
      "cell_type": "code",
      "execution_count": 12,
      "metadata": {
        "id": "VzJiHEmrW3xQ"
      },
      "outputs": [],
      "source": [
        "filename = \"fibonacci_using_iteration.cpp \"\n",
        "output = \"fibonacci_using_iteration\""
      ]
    },
    {
      "cell_type": "code",
      "source": [
        "%%writefile $filename\n",
        "#include <iostream>\n",
        "using namespace std;\n",
        "\n",
        "int main() {\n",
        "    int n;\n",
        "    cout << \"Enter the number of terms: \";\n",
        "    cin >> n;\n",
        "\n",
        "    int a = 0, b = 1;\n",
        "\n",
        "    cout << \"Fibonacci sequence up to \" << n << \" terms:\\n\";\n",
        "    for (int i = 0; i < n; ++i) {\n",
        "        cout << a << \" \";\n",
        "        int next = a + b;\n",
        "        a = b;\n",
        "        b = next;\n",
        "    }\n",
        "\n",
        "    cout << endl;\n",
        "    return 0;\n",
        "}\n"
      ],
      "metadata": {
        "id": "-GFQK_yzW4ix",
        "colab": {
          "base_uri": "https://localhost:8080/"
        },
        "outputId": "1700d447-66b6-4619-e673-1a2f301fcb41"
      },
      "execution_count": 13,
      "outputs": [
        {
          "output_type": "stream",
          "name": "stdout",
          "text": [
            "Writing fibonacci_using_iteration.cpp\n"
          ]
        }
      ]
    },
    {
      "cell_type": "code",
      "source": [
        "!g++ $filename -o $output"
      ],
      "metadata": {
        "id": "KESkKg3sW4pT"
      },
      "execution_count": 14,
      "outputs": []
    },
    {
      "cell_type": "code",
      "source": [
        "!./$output"
      ],
      "metadata": {
        "id": "IMOWnEYwW4xs",
        "colab": {
          "base_uri": "https://localhost:8080/"
        },
        "outputId": "1c9aa470-ecd3-4a11-bc2c-46f1f1a59931"
      },
      "execution_count": 15,
      "outputs": [
        {
          "output_type": "stream",
          "name": "stdout",
          "text": [
            "Enter the number of terms: 6\n",
            "Fibonacci sequence up to 6 terms:\n",
            "0 1 1 2 3 5 \n"
          ]
        }
      ]
    }
  ]
}